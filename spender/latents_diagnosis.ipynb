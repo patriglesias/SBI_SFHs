{
 "cells": [
  {
   "cell_type": "markdown",
   "metadata": {},
   "source": [
    "## Some plots of the output"
   ]
  },
  {
   "cell_type": "code",
   "execution_count": null,
   "metadata": {
    "vscode": {
     "languageId": "plaintext"
    }
   },
   "outputs": [],
   "source": [
    "for index in [0]:\n",
    "        print('Index '+str(index))\n",
    "        plt.plot(wave,x_test[index,:])\n",
    "        plt.xlabel('Wavelength $\\\\AA$')\n",
    "        plt.ylabel('Flux')\n",
    "        plt.savefig(\"./saved_model/generate_latent_2/latent_\"+str(n_latent)+\"/\"+str(index)+'spectra.png')\n",
    "        \n",
    "        plt.plot(np.arange(10,100,10),y_test[index,:],label='real')\n",
    "        plt.plot(np.arange(10,100,10),ys_[0][index,:],label='predicted')\n",
    "        plt.xlabel('Percentiles %')\n",
    "        plt.ylabel('Time [Gyr]')\n",
    "        plt.legend()\n",
    "        plt.savefig(\"./saved_model/generate_latent_2/latent_\"+str(n_latent)+\"/\"+str(index)+'percentiles.png')\n",
    "\n",
    "        plt.plot(y_test[index,:],np.arange(10,100,10),label='real')\n",
    "        plt.plot(ys_[0][index,:],np.arange(10,100,10),label='predicted')\n",
    "        plt.xlabel('Percentiles %')\n",
    "        plt.ylabel('Time [Gyr]')\n",
    "        plt.legend()\n",
    "        plt.savefig(\"./saved_model/generate_latent_2/latent_\"+str(n_latent)+\"/\"+str(index)+'percentiles2.png')\n"
   ]
  },
  {
   "cell_type": "markdown",
   "metadata": {},
   "source": [
    "## Attention plots"
   ]
  },
  {
   "cell_type": "code",
   "execution_count": null,
   "metadata": {
    "vscode": {
     "languageId": "plaintext"
    }
   },
   "outputs": [],
   "source": []
  },
  {
   "cell_type": "markdown",
   "metadata": {},
   "source": [
    "## Embedding the latents"
   ]
  },
  {
   "cell_type": "code",
   "execution_count": null,
   "metadata": {
    "vscode": {
     "languageId": "plaintext"
    }
   },
   "outputs": [],
   "source": []
  },
  {
   "cell_type": "markdown",
   "metadata": {},
   "source": [
    "## Correlation between latents and spectrum regions"
   ]
  }
 ],
 "metadata": {
  "language_info": {
   "name": "python"
  },
  "orig_nbformat": 4
 },
 "nbformat": 4,
 "nbformat_minor": 2
}
